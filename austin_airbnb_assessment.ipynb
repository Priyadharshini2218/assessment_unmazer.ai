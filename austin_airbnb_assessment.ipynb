{
  "nbformat": 4,
  "nbformat_minor": 0,
  "metadata": {
    "kernelspec": {
      "display_name": "Python 3",
      "language": "python",
      "name": "python3"
    },
    "language_info": {
      "codemirror_mode": {
        "name": "ipython",
        "version": 3
      },
      "file_extension": ".py",
      "mimetype": "text/x-python",
      "name": "python",
      "nbconvert_exporter": "python",
      "pygments_lexer": "ipython3",
      "version": "3.8.8"
    },
    "colab": {
      "name": "austin-airbnb.ipynb",
      "provenance": []
    }
  },
  "cells": [
    {
      "cell_type": "code",
      "metadata": {
        "_cell_guid": "b1076dfc-b9ad-4769-8c92-a6c4dae69d19",
        "_uuid": "8f2839f25d086af736a60e9eeb907d3b93b6e0e5",
        "id": "35TK11vNZPmQ"
      },
      "source": [
        "from __future__ import division\n",
        "import numpy as np\n",
        "import pandas as pd \n",
        "\n",
        "import os\n",
        "for dirname, _, filenames in os.walk('/kaggle/input'):\n",
        "    for filename in filenames:\n",
        "        print(os.path.join(dirname, filename))\n",
        "\n",
        "import seaborn as sns\n",
        "import matplotlib.pyplot as plt\n",
        "%matplotlib inline\n",
        "\n",
        "import warnings\n",
        "warnings.filterwarnings('ignore')\n",
        "\n",
        "\n",
        "from sklearn import preprocessing\n",
        "from sklearn.linear_model import LinearRegression\n",
        "from sklearn.model_selection import train_test_split\n",
        "from sklearn import metrics\n"
      ],
      "execution_count": 1,
      "outputs": []
    },
    {
      "cell_type": "code",
      "metadata": {
        "_cell_guid": "79c7e3d0-c299-4dcb-8224-4455121ee9b0",
        "_uuid": "d629ff2d2480ee46fbb7e2d37f6b5fab8052498a",
        "id": "BmhS8YrUZPmX"
      },
      "source": [
        "data = pd.read_csv('../input/austin/AUSTIN.csv')\n",
        "\n",
        "print('Number of features: %s' %data.shape[1])\n",
        "print('Number of examples: %s' %data.shape[0])"
      ],
      "execution_count": null,
      "outputs": []
    },
    {
      "cell_type": "code",
      "metadata": {
        "id": "2h0oGICxZPmX"
      },
      "source": [
        "data.head()"
      ],
      "execution_count": null,
      "outputs": []
    },
    {
      "cell_type": "code",
      "metadata": {
        "id": "bxXjxBrAZPmY"
      },
      "source": [
        "# I want to describe only columns which contain numerical values\n",
        "\n",
        "data.drop(['id', 'name', 'host_id', 'host_name', 'neighbourhood_group', 'neighbourhood', 'room_type', 'last_review'], axis=1).describe()"
      ],
      "execution_count": null,
      "outputs": []
    },
    {
      "cell_type": "code",
      "metadata": {
        "id": "j0QsUNtfZPmZ"
      },
      "source": [
        "print('Null values in Airbnb dataset: \\n')\n",
        "print(data.isnull().sum())\n"
      ],
      "execution_count": null,
      "outputs": []
    },
    {
      "cell_type": "code",
      "metadata": {
        "id": "XOXobdTwZPmZ"
      },
      "source": [
        "fig, ax = plt.subplots(figsize=(17,6))\n",
        "plt.title('Null values in last_review and reviews_per_month', fontsize=15)\n",
        "sns.heatmap(data[['last_review','reviews_per_month' ]].isnull(), cmap=\"Blues\", yticklabels=False, ax=ax, cbar_kws={'ticks': [0, 1]})"
      ],
      "execution_count": null,
      "outputs": []
    },
    {
      "cell_type": "code",
      "metadata": {
        "id": "8H1b8hAaZPma"
      },
      "source": [
        "# last_review column may be dropped\n",
        "\n",
        "data.drop('last_review', axis=1, inplace=True)"
      ],
      "execution_count": null,
      "outputs": []
    },
    {
      "cell_type": "code",
      "metadata": {
        "id": "VRWqxJcTZPmb"
      },
      "source": [
        "data['host_name'].fillna(value=0, inplace=True)"
      ],
      "execution_count": null,
      "outputs": []
    },
    {
      "cell_type": "code",
      "metadata": {
        "id": "clIXYbWhZPmb"
      },
      "source": [
        "data['reviews_per_month'].fillna(value=0, inplace=True)"
      ],
      "execution_count": null,
      "outputs": []
    },
    {
      "cell_type": "code",
      "metadata": {
        "id": "gGi_uuwjZPmb"
      },
      "source": [
        "data.isnull().sum()"
      ],
      "execution_count": null,
      "outputs": []
    },
    {
      "cell_type": "code",
      "metadata": {
        "id": "NgR4rbLGZPmb"
      },
      "source": [
        "data.head()"
      ],
      "execution_count": null,
      "outputs": []
    },
    {
      "cell_type": "code",
      "metadata": {
        "id": "44317E91ZPmc"
      },
      "source": [
        "#top 3 hosts\n",
        "top_3_hosts = (pd.DataFrame(data.host_id.value_counts())).head(3)\n",
        "top_3_hosts.columns=['Listings']\n",
        "top_3_hosts['host_id'] = top_3_hosts.index\n",
        "top_3_hosts.reset_index(drop=True, inplace=True)\n",
        "top_3_hosts"
      ],
      "execution_count": null,
      "outputs": []
    },
    {
      "cell_type": "code",
      "metadata": {
        "id": "aUhswAB_ZPmc"
      },
      "source": [
        "#  top 3 the hottest neighbourhoood groups\n",
        "\n",
        "top_3_neigh = pd.DataFrame(data['neighbourhood_group'].value_counts().head(3))\n",
        "top_3_neigh.columns=['Listings']\n",
        "top_3_neigh['Neighbourhood Group'] = top_3_neigh.index\n",
        "top_3_neigh.reset_index(drop=True, inplace=True)\n",
        "top_3_neigh"
      ],
      "execution_count": null,
      "outputs": []
    },
    {
      "cell_type": "code",
      "metadata": {
        "id": "ZnCtp2JwZPmd"
      },
      "source": [
        "# average price, availability in year \n",
        "\n",
        "average_price_ava = pd.DataFrame(data[['price', 'availability_365']].describe())\n",
        "average_price_ava.columns=['Price', 'Availability in a year']\n",
        "average_price_ava"
      ],
      "execution_count": null,
      "outputs": []
    },
    {
      "cell_type": "code",
      "metadata": {
        "id": "LWPUtzpyZPmd"
      },
      "source": [
        "# most reviewed hosts\n",
        "\n",
        "rev_group = pd.DataFrame(data.groupby('number_of_reviews').sum()['host_id'])\n",
        "most_reviewed = (rev_group.sort_values('number_of_reviews',ascending=False)).head(3)\n",
        "most_reviewed.columns = ['Host ID']\n",
        "most_reviewed['Number of reviews'] = most_reviewed.index\n",
        "most_reviewed.reset_index(drop=True, inplace=True)\n"
      ],
      "execution_count": null,
      "outputs": []
    },
    {
      "cell_type": "code",
      "metadata": {
        "id": "IoV7gbf0ZPmf"
      },
      "source": [
        "# Visualisation\n",
        "# Neighbourhood groups with counts with category room_type\n",
        "\n",
        "plt.figure(figsize=(15,6))\n",
        "sns.countplot(data=data, x='neighbourhood_group', hue='room_type', palette='GnBu_d')\n",
        "plt.title('Counts of airbnb in neighbourhoods with room type category', fontsize=15)\n",
        "plt.xlabel('Neighbourhood group')\n",
        "plt.ylabel(\"Count\")\n",
        "plt.legend(frameon=False, fontsize=12)"
      ],
      "execution_count": null,
      "outputs": []
    },
    {
      "cell_type": "code",
      "metadata": {
        "id": "fWW1p5_2ZPmf"
      },
      "source": [
        "#Distribution of prices\n",
        "\n",
        "plt.figure(figsize=(15,6))\n",
        "sns.violinplot(data=data[data.price <500], x='neighbourhood_group', y='price', palette='GnBu_d')\n",
        "plt.title('Density and distribution of prices for each neighbourhood group', fontsize=15)\n",
        "plt.xlabel('Neighbourhood group')\n",
        "plt.ylabel(\"Price\")"
      ],
      "execution_count": null,
      "outputs": []
    },
    {
      "cell_type": "code",
      "metadata": {
        "id": "r9v19eVcZPmf"
      },
      "source": [
        "#  top neighbourhoods with category of room type\n",
        "\n",
        "top_nei = data['neighbourhood'].value_counts().reset_index().head(10)\n",
        "top_nei = top_nei['index'].tolist()\n",
        "\n",
        "plt.figure(figsize=(15,6))\n",
        "vis_3 = sns.catplot(x='neighbourhood', hue='neighbourhood_group', col='room_type', data=data.loc[data['neighbourhood'].isin(top_nei)], kind='count', palette='GnBu_d')\n",
        "vis_3.set_xticklabels(rotation=90)"
      ],
      "execution_count": null,
      "outputs": []
    },
    {
      "cell_type": "code",
      "metadata": {
        "id": "RBdfmkCBZPmg"
      },
      "source": [
        "# room types\n",
        "\n",
        "plt.figure(figsize=(15,6))\n",
        "sns.countplot(data=data, x='room_type', palette='GnBu_d')\n",
        "plt.title('Counts for room types', fontsize=15)\n",
        "plt.xlabel('Room types')\n",
        "plt.ylabel(\"Count\")"
      ],
      "execution_count": null,
      "outputs": []
    },
    {
      "cell_type": "code",
      "metadata": {
        "id": "nkeao5CgZPmh"
      },
      "source": [
        "#prices in neighbourhoods \n",
        "\n",
        "data1 = pd.DataFrame(data.groupby(['neighbourhood_group', 'neighbourhood'])['price'].mean())\n",
        "data1.reset_index(inplace=True)\n",
        "\n",
        "bronx = (data1[data1['neighbourhood_group'] =='Bronx']).sort_values(by='price',ascending=False).head(10)\n",
        "brooklyn = (data1[data1['neighbourhood_group'] =='Brooklyn']).sort_values(by='price',ascending=False).head(10)\n",
        "manhattan = (data1[data1['neighbourhood_group'] =='Manhattan']).sort_values(by='price',ascending=False).head(10)\n",
        "queens = (data1[data1['neighbourhood_group'] =='Queens']).sort_values(by='price',ascending=False).head(10)\n",
        "staten = (data1[data1['neighbourhood_group'] =='Staten Island']).sort_values(by='price',ascending=False).head(10)\n",
        "\n",
        "neighs = [bronx, brooklyn, manhattan, queens, staten]\n",
        "titles = ['Bronx', 'Brooklyn', 'Manhattan', 'Queens', 'Staten Island']"
      ],
      "execution_count": null,
      "outputs": []
    },
    {
      "cell_type": "code",
      "metadata": {
        "id": "wxJ0kgzRZPmi"
      },
      "source": [
        "# Preparing dataset for predictions\n",
        "\n",
        "data_pred = pd.read_csv('../input/austin/AUSTIN.csv')\n",
        "data_pred.head()"
      ],
      "execution_count": null,
      "outputs": []
    },
    {
      "cell_type": "code",
      "metadata": {
        "id": "_CfK-8G7ZPmi"
      },
      "source": [
        ""
      ],
      "execution_count": null,
      "outputs": []
    },
    {
      "cell_type": "code",
      "metadata": {
        "id": "jFp1dIFAZPmi"
      },
      "source": [
        "data_pred.drop(['name', 'host_name', 'last_review', 'id'], inplace=True, axis=1)"
      ],
      "execution_count": null,
      "outputs": []
    },
    {
      "cell_type": "code",
      "metadata": {
        "id": "UATDuhZxZPmi"
      },
      "source": [
        "data_pred['reviews_per_month'] = data_pred['reviews_per_month'].fillna(value=0, inplace=False)"
      ],
      "execution_count": null,
      "outputs": []
    },
    {
      "cell_type": "code",
      "metadata": {
        "id": "61k_DQLUZPmi"
      },
      "source": [
        "data_pred.head()"
      ],
      "execution_count": null,
      "outputs": []
    },
    {
      "cell_type": "code",
      "metadata": {
        "id": "sp7C4H_vZPmj"
      },
      "source": [
        "pple = preprocessing.LabelEncoder()\n",
        "\n",
        "pple.fit(data_pred['neighbourhood_group'])\n",
        "data_pred['neighbourhood_group']=pple.transform(data_pred['neighbourhood_group'])\n",
        "\n",
        "pple.fit(data_pred['neighbourhood'])\n",
        "data_pred['neighbourhood']=le.transform(data_pred['neighbourhood'])\n",
        "\n",
        "pple.fit(data_pred['room_type'])\n",
        "data_pred['room_type']=pple.transform(data_pred['room_type'])"
      ],
      "execution_count": null,
      "outputs": []
    },
    {
      "cell_type": "code",
      "metadata": {
        "id": "655TgQwSZPmj"
      },
      "source": [
        "data_pred.sort_values('price', ascending=True, inplace=True)\n",
        "data_pred = data_pred[11:-6]\n",
        "\n",
        "\n",
        "lm = LinearRegression()\n",
        "\n",
        "X = data_pred.drop(['price', 'longitude'], inplace=False, axis=1)\n",
        "y = data_pred['price']\n",
        "\n",
        "X_train, X_test, y_train, y_test = train_test_split(X, y, test_size=0.2, random_state=101)\n",
        "\n",
        "lm.fit(X_train, y_train)\n",
        "\n",
        "\n",
        "predictions = lm.predict(X_test)"
      ],
      "execution_count": null,
      "outputs": []
    },
    {
      "cell_type": "code",
      "metadata": {
        "id": "F-8-db5JZPmk"
      },
      "source": [
        "#metrics\n",
        "mae = metrics.mean_absolute_error(y_test, predictions)\n",
        "mse = metrics.mean_squared_error(y_test, predictions)\n",
        "rmse = np.sqrt(metrics.mean_squared_error(y_test, predictions))\n",
        "r2 = metrics.r2_score(y_test, predictions)\n",
        "\n",
        "print('MAE (Mean Absolute Error): %s' %mae)\n",
        "print('MSE (Mean Squared Error): %s' %mse)\n",
        "print('RMSE (Root mean squared error): %s' %rmse)\n",
        "print('R2 score: %s' %r2)\n",
        "\n",
        "predictions = lm.predict(X_test)"
      ],
      "execution_count": null,
      "outputs": []
    },
    {
      "cell_type": "code",
      "metadata": {
        "id": "SuZc_QjIZPmk"
      },
      "source": [
        "# Evaluated predictions\n",
        "\n",
        "plt.figure(figsize=(15,7))\n",
        "plt.xlim(-10,350)\n",
        "sns.regplot(y=y_test, x=predictions, color='blue')\n",
        "plt.title('Evaluated predictions', fontsize=15)\n",
        "plt.xlabel('Predictions')\n"
      ],
      "execution_count": null,
      "outputs": []
    }
  ]
}